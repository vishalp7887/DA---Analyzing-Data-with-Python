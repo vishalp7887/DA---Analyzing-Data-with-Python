{
 "cells": [
  {
   "cell_type": "code",
   "execution_count": 1,
   "id": "16c8ed57",
   "metadata": {},
   "outputs": [],
   "source": [
    "import pandas as pd"
   ]
  },
  {
   "cell_type": "code",
   "execution_count": 2,
   "id": "988ec048",
   "metadata": {},
   "outputs": [
    {
     "name": "stdout",
     "output_type": "stream",
     "text": [
      "                 state  confirmed  active  passive  deaths     dose1  \\\n",
      "0  Andaman and Nicobar      10742       1    10612     129    313284   \n",
      "1       Andhra Pradesh    2339067       3  2324331   14733  40643161   \n",
      "2    Arunachal Pradesh      66890       0    66594     296    860442   \n",
      "3                Assam     746100       0   738065    8035  22549957   \n",
      "4                Bihar     851379      15   839062   12302  62944633   \n",
      "5           Chandigarh      99348       6    98161    1181   1089254   \n",
      "\n",
      "      dose2     dose3  precaution_dose  total_doses  population  \n",
      "0    320383    236936            53427       991263      426251  \n",
      "1  43549055  11703273          6579565    110556756    52883163  \n",
      "2    747177     72403            58618      1911760     1528296  \n",
      "3  20561790   2082670          1259853     50284713    34586234  \n",
      "4  59144387  11983504          3868082    157197041   119461013  \n",
      "5    917701     48480            63046      2282281     1182104  \n"
     ]
    }
   ],
   "source": [
    "df = pd.read_csv('covid.csv')\n",
    "print(df.head(6))"
   ]
  },
  {
   "cell_type": "code",
   "execution_count": 7,
   "id": "ff78ee5e",
   "metadata": {},
   "outputs": [
    {
     "name": "stdout",
     "output_type": "stream",
     "text": [
      "            state  confirmed  active  passive  deaths      dose1      dose2  \\\n",
      "30     Tamil Nadu    3594388      60  3556279   38049   56659544   53499923   \n",
      "31      Telengana     841324      71   837142    4111   29607672   29053708   \n",
      "32        Tripura     108034       0   107094     940    2658852    2328613   \n",
      "33  Uttar Pradesh    2128103      46  2104424   23633  154058287  147716010   \n",
      "34    Uttarakhand     449379      28   441600    7751    8180312    7940592   \n",
      "35    West Bengal    2118606      58  2097016   21532   67300236   61593452   \n",
      "\n",
      "       dose3  precaution_dose  total_doses  population  \n",
      "30   6033504          3021694    127442647    76481545  \n",
      "31  10525975          2702159     77201709    38472769  \n",
      "32    271434           204733      5916312     4057847  \n",
      "33  35623544          9240735    390639497   228959599  \n",
      "34   1346150           867047     20051714    11090425  \n",
      "35  10257324          5491943    155962840    97694960  \n"
     ]
    }
   ],
   "source": [
    "print(df.tail(6))"
   ]
  },
  {
   "cell_type": "code",
   "execution_count": 8,
   "id": "ef99cf5f",
   "metadata": {},
   "outputs": [
    {
     "name": "stdout",
     "output_type": "stream",
     "text": [
      "                 state  confirmed  active  passive  deaths     dose1  \\\n",
      "0  Andaman and Nicobar      10742       1    10612     129    313284   \n",
      "1       Andhra Pradesh    2339067       3  2324331   14733  40643161   \n",
      "2    Arunachal Pradesh      66890       0    66594     296    860442   \n",
      "3                Assam     746100       0   738065    8035  22549957   \n",
      "4                Bihar     851379      15   839062   12302  62944633   \n",
      "\n",
      "      dose2     dose3  precaution_dose  total_doses  population  \n",
      "0    320383    236936            53427       991263      426251  \n",
      "1  43549055  11703273          6579565    110556756    52883163  \n",
      "2    747177     72403            58618      1911760     1528296  \n",
      "3  20561790   2082670          1259853     50284713    34586234  \n",
      "4  59144387  11983504          3868082    157197041   119461013  \n"
     ]
    }
   ],
   "source": [
    "print(df.head())"
   ]
  },
  {
   "cell_type": "code",
   "execution_count": 10,
   "id": "5691cdf9",
   "metadata": {},
   "outputs": [],
   "source": [
    "df_1 = pd.read_csv('data.csv')\n",
    "print()"
   ]
  },
  {
   "cell_type": "code",
   "execution_count": null,
   "id": "56a0cac7",
   "metadata": {},
   "outputs": [],
   "source": []
  }
 ],
 "metadata": {
  "kernelspec": {
   "display_name": "Python 3 (ipykernel)",
   "language": "python",
   "name": "python3"
  },
  "language_info": {
   "codemirror_mode": {
    "name": "ipython",
    "version": 3
   },
   "file_extension": ".py",
   "mimetype": "text/x-python",
   "name": "python",
   "nbconvert_exporter": "python",
   "pygments_lexer": "ipython3",
   "version": "3.9.13"
  }
 },
 "nbformat": 4,
 "nbformat_minor": 5
}
