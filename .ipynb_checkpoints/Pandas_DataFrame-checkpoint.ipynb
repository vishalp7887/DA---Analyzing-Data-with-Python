{
 "cells": [
  {
   "cell_type": "code",
   "execution_count": 1,
   "id": "579f54a5",
   "metadata": {},
   "outputs": [],
   "source": [
    "import numpy as np\n",
    "import pandas as pd"
   ]
  },
  {
   "cell_type": "code",
   "execution_count": 2,
   "id": "8b6a45b6",
   "metadata": {},
   "outputs": [
    {
     "data": {
      "text/html": [
       "<div>\n",
       "<style scoped>\n",
       "    .dataframe tbody tr th:only-of-type {\n",
       "        vertical-align: middle;\n",
       "    }\n",
       "\n",
       "    .dataframe tbody tr th {\n",
       "        vertical-align: top;\n",
       "    }\n",
       "\n",
       "    .dataframe thead th {\n",
       "        text-align: right;\n",
       "    }\n",
       "</style>\n",
       "<table border=\"1\" class=\"dataframe\">\n",
       "  <thead>\n",
       "    <tr style=\"text-align: right;\">\n",
       "      <th></th>\n",
       "      <th>a</th>\n",
       "      <th>b</th>\n",
       "      <th>c</th>\n",
       "    </tr>\n",
       "  </thead>\n",
       "  <tbody>\n",
       "    <tr>\n",
       "      <th>0</th>\n",
       "      <td>10</td>\n",
       "      <td>20</td>\n",
       "      <td>10</td>\n",
       "    </tr>\n",
       "    <tr>\n",
       "      <th>1</th>\n",
       "      <td>30</td>\n",
       "      <td>40</td>\n",
       "      <td>20</td>\n",
       "    </tr>\n",
       "    <tr>\n",
       "      <th>2</th>\n",
       "      <td>50</td>\n",
       "      <td>60</td>\n",
       "      <td>40</td>\n",
       "    </tr>\n",
       "    <tr>\n",
       "      <th>3</th>\n",
       "      <td>70</td>\n",
       "      <td>80</td>\n",
       "      <td>50</td>\n",
       "    </tr>\n",
       "  </tbody>\n",
       "</table>\n",
       "</div>"
      ],
      "text/plain": [
       "    a   b   c\n",
       "0  10  20  10\n",
       "1  30  40  20\n",
       "2  50  60  40\n",
       "3  70  80  50"
      ]
     },
     "execution_count": 2,
     "metadata": {},
     "output_type": "execute_result"
    }
   ],
   "source": [
    "# create a dataframe from a dictionary\n",
    "d1 = {'a' : [10, 30, 50, 70], 'b' : [20, 40, 60, 80], 'c' : [10, 20, 40, 50]}\n",
    "\n",
    "df1 = pd.DataFrame(d1)\n",
    "df1"
   ]
  },
  {
   "cell_type": "code",
   "execution_count": 3,
   "id": "e634382e",
   "metadata": {},
   "outputs": [
    {
     "data": {
      "text/html": [
       "<div>\n",
       "<style scoped>\n",
       "    .dataframe tbody tr th:only-of-type {\n",
       "        vertical-align: middle;\n",
       "    }\n",
       "\n",
       "    .dataframe tbody tr th {\n",
       "        vertical-align: top;\n",
       "    }\n",
       "\n",
       "    .dataframe thead th {\n",
       "        text-align: right;\n",
       "    }\n",
       "</style>\n",
       "<table border=\"1\" class=\"dataframe\">\n",
       "  <thead>\n",
       "    <tr style=\"text-align: right;\">\n",
       "      <th></th>\n",
       "      <th>a</th>\n",
       "      <th>b</th>\n",
       "      <th>c</th>\n",
       "    </tr>\n",
       "  </thead>\n",
       "  <tbody>\n",
       "    <tr>\n",
       "      <th>w</th>\n",
       "      <td>10</td>\n",
       "      <td>20</td>\n",
       "      <td>10</td>\n",
       "    </tr>\n",
       "    <tr>\n",
       "      <th>x</th>\n",
       "      <td>40</td>\n",
       "      <td>30</td>\n",
       "      <td>20</td>\n",
       "    </tr>\n",
       "    <tr>\n",
       "      <th>y</th>\n",
       "      <td>50</td>\n",
       "      <td>10</td>\n",
       "      <td>80</td>\n",
       "    </tr>\n",
       "    <tr>\n",
       "      <th>z</th>\n",
       "      <td>70</td>\n",
       "      <td>80</td>\n",
       "      <td>50</td>\n",
       "    </tr>\n",
       "  </tbody>\n",
       "</table>\n",
       "</div>"
      ],
      "text/plain": [
       "    a   b   c\n",
       "w  10  20  10\n",
       "x  40  30  20\n",
       "y  50  10  80\n",
       "z  70  80  50"
      ]
     },
     "execution_count": 3,
     "metadata": {},
     "output_type": "execute_result"
    }
   ],
   "source": [
    "# create a dataframe from a dictionary which has the index labels.\n",
    "d2 = {'a' : [10, 40, 50, 70], 'b' : [20, 30, 10, 80], 'c' : [10, 20, 80, 50]}\n",
    "\n",
    "label = ['w', 'x', 'y', 'z']\n",
    "df2 = pd.DataFrame(d2, index = label)\n",
    "df2"
   ]
  },
  {
   "cell_type": "code",
   "execution_count": 4,
   "id": "5d259bd3",
   "metadata": {},
   "outputs": [
    {
     "name": "stdout",
     "output_type": "stream",
     "text": [
      "<class 'pandas.core.frame.DataFrame'>\n",
      "Index: 4 entries, w to z\n",
      "Data columns (total 3 columns):\n",
      " #   Column  Non-Null Count  Dtype\n",
      "---  ------  --------------  -----\n",
      " 0   a       4 non-null      int64\n",
      " 1   b       4 non-null      int64\n",
      " 2   c       4 non-null      int64\n",
      "dtypes: int64(3)\n",
      "memory usage: 128.0+ bytes\n"
     ]
    }
   ],
   "source": [
    "# basic information about a specified DataFrame and its data.\n",
    "d3 = {'a' : [10, 40, 50, 70], 'b' : [20, 30, 10, 80], 'c' : [10, 20, 80, 50]}\n",
    "\n",
    "label = ['w', 'x', 'y', 'z']\n",
    "df3 = pd.DataFrame(d3, index = label)\n",
    "df3.info()"
   ]
  },
  {
   "cell_type": "code",
   "execution_count": 5,
   "id": "98632e84",
   "metadata": {},
   "outputs": [
    {
     "name": "stdout",
     "output_type": "stream",
     "text": [
      "    a   b   c\n",
      "w  10  20  10\n",
      "x  40  30  20\n",
      "y  50  10  80\n",
      "z  70  80  50\n",
      "    a   b   c\n",
      "w  10  20  10\n",
      "x  40  30  20\n",
      "y  50  10  80\n",
      "    a   b   c\n",
      "w  10  20  10\n",
      "x  40  30  20\n",
      "y  50  10  80\n"
     ]
    }
   ],
   "source": [
    "# get the first 3 rows of a given DataFrame.\n",
    "d4 = {'a' : [10, 40, 50, 70], 'b' : [20, 30, 10, 80], 'c' : [10, 20, 80, 50]}\n",
    "\n",
    "label = ['w', 'x', 'y', 'z']\n",
    "df4 = pd.DataFrame(d4, index = label)\n",
    "print(df4)\n",
    "print(df4.head(3))\n",
    "print(df4.iloc[:3])"
   ]
  },
  {
   "cell_type": "code",
   "execution_count": 6,
   "id": "ac61d84b",
   "metadata": {},
   "outputs": [
    {
     "name": "stdout",
     "output_type": "stream",
     "text": [
      "    a   b\n",
      "w  10  20\n",
      "x  40  30\n",
      "y  50  10\n",
      "z  70  80\n"
     ]
    }
   ],
   "source": [
    "# select the a and b columns from the following DataFrame.\n",
    "d5 = {'a' : [10, 40, 50, 70], 'b' : [20, 30, 10, 80], 'c' : [10, 20, 80, 50]}\n",
    "\n",
    "label = ['w', 'x', 'y', 'z']\n",
    "df5 = pd.DataFrame(d5, index = label)\n",
    "print(df5[['a', 'b']])"
   ]
  },
  {
   "cell_type": "code",
   "execution_count": 8,
   "id": "2f55a8cd",
   "metadata": {},
   "outputs": [
    {
     "data": {
      "text/html": [
       "<div>\n",
       "<style scoped>\n",
       "    .dataframe tbody tr th:only-of-type {\n",
       "        vertical-align: middle;\n",
       "    }\n",
       "\n",
       "    .dataframe tbody tr th {\n",
       "        vertical-align: top;\n",
       "    }\n",
       "\n",
       "    .dataframe thead th {\n",
       "        text-align: right;\n",
       "    }\n",
       "</style>\n",
       "<table border=\"1\" class=\"dataframe\">\n",
       "  <thead>\n",
       "    <tr style=\"text-align: right;\">\n",
       "      <th></th>\n",
       "      <th>a</th>\n",
       "      <th>c</th>\n",
       "    </tr>\n",
       "  </thead>\n",
       "  <tbody>\n",
       "    <tr>\n",
       "      <th>w</th>\n",
       "      <td>10</td>\n",
       "      <td>10</td>\n",
       "    </tr>\n",
       "    <tr>\n",
       "      <th>y</th>\n",
       "      <td>50</td>\n",
       "      <td>80</td>\n",
       "    </tr>\n",
       "  </tbody>\n",
       "</table>\n",
       "</div>"
      ],
      "text/plain": [
       "    a   c\n",
       "w  10  10\n",
       "y  50  80"
      ]
     },
     "execution_count": 8,
     "metadata": {},
     "output_type": "execute_result"
    }
   ],
   "source": [
    "# select the specified columns and rows from a given data frame.\n",
    "d6 = {'a' : [10, 40, 50, 70], 'b' : [20, 30, 10, 80], 'c' : [10, 20, 80, 50]}\n",
    "\n",
    "label = ['w', 'x', 'y', 'z']\n",
    "df7 = pd.DataFrame(d6, index = label)\n",
    "df7.iloc[[0,2], [0,2]]"
   ]
  },
  {
   "cell_type": "code",
   "execution_count": 14,
   "id": "2bdfbf43",
   "metadata": {},
   "outputs": [
    {
     "name": "stdout",
     "output_type": "stream",
     "text": [
      "    a   b   c\n",
      "1  40  30  20\n",
      "3  70  80  50\n"
     ]
    }
   ],
   "source": [
    "# select the rows where the number\n",
    "d7 = {'a' : [10, 40, 50, 70], 'b' : [20, 30, 10, 80], 'c' : [10, 20, 80, 50]}\n",
    "\n",
    "df8 = pd.DataFrame(d7)\n",
    "print(df8[df8['b'] > 20])"
   ]
  },
  {
   "cell_type": "code",
   "execution_count": 21,
   "id": "0dda7bb7",
   "metadata": {},
   "outputs": [
    {
     "name": "stdout",
     "output_type": "stream",
     "text": [
      "    a   b   c\n",
      "0  10  20  10\n",
      "1  40  30  20\n",
      "2  50  10  80\n",
      "3  70  80  50\n",
      "column :  3\n",
      "rows :  4\n"
     ]
    }
   ],
   "source": [
    "# count the number of rows and columns of a DataFrame.\n",
    "d9 = {'a' : [10, 40, 50, 70], 'b' : [20, 30, 10, 80], 'c' : [10, 20, 80, 50]}\n",
    "\n",
    "df10 = pd.DataFrame(d9)\n",
    "print(df10)\n",
    "print('column : ', len(df10.axes[1]))\n",
    "print('rows : ', len(df10.axes[0]))"
   ]
  },
  {
   "cell_type": "code",
   "execution_count": 35,
   "id": "7e02ec8b",
   "metadata": {},
   "outputs": [
    {
     "name": "stdout",
     "output_type": "stream",
     "text": [
      "    a   b     c\n",
      "2 NaN  10  80.0\n"
     ]
    }
   ],
   "source": [
    "# select the rows where the score is missing, i.e. is NaN.\n",
    "d10 = {'a' : [10, 40, np.nan, 70], 'b' : [20, 30, 10, 80], 'c' : [10, np.nan, 80, 50]}\n",
    "\n",
    "df11 = pd.DataFrame(d10)\n",
    "print(df11[df11['a'].isnull()])"
   ]
  },
  {
   "cell_type": "code",
   "execution_count": 42,
   "id": "845ef264",
   "metadata": {},
   "outputs": [
    {
     "name": "stdout",
     "output_type": "stream",
     "text": [
      "      a   b     c\n",
      "0  10.0  20  10.0\n",
      "1  40.0  30   NaN\n",
      "2   NaN  10  80.0\n"
     ]
    }
   ],
   "source": [
    "# select the rows the b is between 10 and 30 (inclusive).\n",
    "d11 = {'a' : [10, 40, np.nan, 70], 'b' : [20, 30, 10, 80], 'c' : [10, np.nan, 80, 50]}\n",
    "\n",
    "df12 = pd.DataFrame(d11)\n",
    "print(df12[df12['b'].between(10, 30)])"
   ]
  },
  {
   "cell_type": "code",
   "execution_count": null,
   "id": "c749958a",
   "metadata": {},
   "outputs": [],
   "source": []
  }
 ],
 "metadata": {
  "kernelspec": {
   "display_name": "Python 3 (ipykernel)",
   "language": "python",
   "name": "python3"
  },
  "language_info": {
   "codemirror_mode": {
    "name": "ipython",
    "version": 3
   },
   "file_extension": ".py",
   "mimetype": "text/x-python",
   "name": "python",
   "nbconvert_exporter": "python",
   "pygments_lexer": "ipython3",
   "version": "3.9.13"
  }
 },
 "nbformat": 4,
 "nbformat_minor": 5
}
