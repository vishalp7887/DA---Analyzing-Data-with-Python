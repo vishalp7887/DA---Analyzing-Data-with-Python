{
 "cells": [
  {
   "cell_type": "code",
   "execution_count": 1,
   "id": "57852fe7",
   "metadata": {},
   "outputs": [],
   "source": [
    "import pandas as pd\n",
    "import numpy as np\n",
    "import seaborn as sns"
   ]
  },
  {
   "cell_type": "code",
   "execution_count": 2,
   "id": "2994b482",
   "metadata": {},
   "outputs": [],
   "source": [
    "l = [1,5,3,5,2,56,3,54,8,6,4,3,5,8,90,7,6,4,3,2,4,5,6,8,9,0,8,124,6,4,3,3,4,5,55,6,7,8,9,8,]"
   ]
  },
  {
   "cell_type": "code",
   "execution_count": 3,
   "id": "262767cc",
   "metadata": {},
   "outputs": [
    {
     "name": "stdout",
     "output_type": "stream",
     "text": [
      "[56, 54, 90, 124, 55]\n"
     ]
    }
   ],
   "source": [
    "# oulier Z-score\n",
    "\n",
    "outliers = []\n",
    "def detect_outliers(data):\n",
    "    threshold = 1  # 3rd standard deviation\n",
    "    mean = np.mean(data)\n",
    "    std = np.std(data)\n",
    "    \n",
    "    for i in data:\n",
    "        z_score = (i - mean)/std\n",
    "        if np.abs(z_score) > threshold:\n",
    "            outliers.append(i)\n",
    "    return outliers\n",
    "\n",
    "\n",
    "print(detect_outliers(l))"
   ]
  },
  {
   "cell_type": "code",
   "execution_count": 19,
   "id": "97e41b11",
   "metadata": {},
   "outputs": [
    {
     "data": {
      "text/plain": [
       "[56, 54, 90, 124, 55]"
      ]
     },
     "execution_count": 19,
     "metadata": {},
     "output_type": "execute_result"
    }
   ],
   "source": [
    "# outlier IQR code\n",
    "def find_outlier(data):\n",
    "    Q1 = np.percentile(l, 25)\n",
    "    Q3 = np.percentile(l, 75)\n",
    "    IQR = Q3 - Q1\n",
    "    lower_bound = Q1 - 1.5 * IQR\n",
    "    upper_bound = Q3 + 1.5 * IQR\n",
    "    find_outlier = [x for x in data if x < lower_bound or x > upper_bound]\n",
    "    return find_outlier\n",
    "\n",
    "\n",
    "find_outlier(l)"
   ]
  },
  {
   "cell_type": "code",
   "execution_count": 4,
   "id": "67f890ba",
   "metadata": {},
   "outputs": [
    {
     "name": "stderr",
     "output_type": "stream",
     "text": [
      "D:\\anaconda\\lib\\site-packages\\seaborn\\_decorators.py:36: FutureWarning: Pass the following variable as a keyword arg: x. From version 0.12, the only valid positional argument will be `data`, and passing other arguments without an explicit keyword will result in an error or misinterpretation.\n",
      "  warnings.warn(\n"
     ]
    },
    {
     "data": {
      "text/plain": [
       "<AxesSubplot:>"
      ]
     },
     "execution_count": 4,
     "metadata": {},
     "output_type": "execute_result"
    },
    {
     "data": {
      "image/png": "[encoded data removed]",
      "text/plain": [
       "<Figure size 640x480 with 1 Axes>"
      ]
     },
     "metadata": {},
     "output_type": "display_data"
    }
   ],
   "source": [
    "# outlier boxplot\n",
    "sns.boxplot(l)"
   ]
  },
  {
   "cell_type": "code",
   "execution_count": 5,
   "id": "8cd596ed",
   "metadata": {},
   "outputs": [],
   "source": [
    "df = pd.read_csv('D:\\\\vishal data\\\\csv file\\\\customer_shopping_data.csv')"
   ]
  },
  {
   "cell_type": "code",
   "execution_count": 6,
   "id": "7c95525b",
   "metadata": {},
   "outputs": [
    {
     "data": {
      "text/html": [
       "<div>\n",
       "<style scoped>\n",
       "    .dataframe tbody tr th:only-of-type {\n",
       "        vertical-align: middle;\n",
       "    }\n",
       "\n",
       "    .dataframe tbody tr th {\n",
       "        vertical-align: top;\n",
       "    }\n",
       "\n",
       "    .dataframe thead th {\n",
       "        text-align: right;\n",
       "    }\n",
       "</style>\n",
       "<table border=\"1\" class=\"dataframe\">\n",
       "  <thead>\n",
       "    <tr style=\"text-align: right;\">\n",
       "      <th></th>\n",
       "      <th>invoice_no</th>\n",
       "      <th>customer_id</th>\n",
       "      <th>gender</th>\n",
       "      <th>age</th>\n",
       "      <th>category</th>\n",
       "      <th>quantity</th>\n",
       "      <th>price</th>\n",
       "      <th>payment_method</th>\n",
       "      <th>invoice_date</th>\n",
       "      <th>shopping_mall</th>\n",
       "    </tr>\n",
       "  </thead>\n",
       "  <tbody>\n",
       "    <tr>\n",
       "      <th>0</th>\n",
       "      <td>I138884</td>\n",
       "      <td>C241288</td>\n",
       "      <td>Female</td>\n",
       "      <td>28</td>\n",
       "      <td>Clothing</td>\n",
       "      <td>5</td>\n",
       "      <td>1500.40</td>\n",
       "      <td>Credit Card</td>\n",
       "      <td>5/8/2022</td>\n",
       "      <td>Kanyon</td>\n",
       "    </tr>\n",
       "    <tr>\n",
       "      <th>1</th>\n",
       "      <td>I317333</td>\n",
       "      <td>C111565</td>\n",
       "      <td>Male</td>\n",
       "      <td>21</td>\n",
       "      <td>Shoes</td>\n",
       "      <td>3</td>\n",
       "      <td>1800.51</td>\n",
       "      <td>Debit Card</td>\n",
       "      <td>12/12/2021</td>\n",
       "      <td>Forum Istanbul</td>\n",
       "    </tr>\n",
       "    <tr>\n",
       "      <th>2</th>\n",
       "      <td>I127801</td>\n",
       "      <td>C266599</td>\n",
       "      <td>Male</td>\n",
       "      <td>20</td>\n",
       "      <td>Clothing</td>\n",
       "      <td>1</td>\n",
       "      <td>300.08</td>\n",
       "      <td>Cash</td>\n",
       "      <td>9/11/2021</td>\n",
       "      <td>Metrocity</td>\n",
       "    </tr>\n",
       "    <tr>\n",
       "      <th>3</th>\n",
       "      <td>I173702</td>\n",
       "      <td>C988172</td>\n",
       "      <td>Female</td>\n",
       "      <td>66</td>\n",
       "      <td>Shoes</td>\n",
       "      <td>5</td>\n",
       "      <td>3000.85</td>\n",
       "      <td>Credit Card</td>\n",
       "      <td>16/05/2021</td>\n",
       "      <td>Metropol AVM</td>\n",
       "    </tr>\n",
       "    <tr>\n",
       "      <th>4</th>\n",
       "      <td>I337046</td>\n",
       "      <td>C189076</td>\n",
       "      <td>Female</td>\n",
       "      <td>53</td>\n",
       "      <td>Books</td>\n",
       "      <td>4</td>\n",
       "      <td>60.60</td>\n",
       "      <td>Cash</td>\n",
       "      <td>24/10/2021</td>\n",
       "      <td>Kanyon</td>\n",
       "    </tr>\n",
       "    <tr>\n",
       "      <th>...</th>\n",
       "      <td>...</td>\n",
       "      <td>...</td>\n",
       "      <td>...</td>\n",
       "      <td>...</td>\n",
       "      <td>...</td>\n",
       "      <td>...</td>\n",
       "      <td>...</td>\n",
       "      <td>...</td>\n",
       "      <td>...</td>\n",
       "      <td>...</td>\n",
       "    </tr>\n",
       "    <tr>\n",
       "      <th>99452</th>\n",
       "      <td>I219422</td>\n",
       "      <td>C441542</td>\n",
       "      <td>Female</td>\n",
       "      <td>45</td>\n",
       "      <td>Souvenir</td>\n",
       "      <td>5</td>\n",
       "      <td>58.65</td>\n",
       "      <td>Credit Card</td>\n",
       "      <td>21/09/2022</td>\n",
       "      <td>Kanyon</td>\n",
       "    </tr>\n",
       "    <tr>\n",
       "      <th>99453</th>\n",
       "      <td>I325143</td>\n",
       "      <td>C569580</td>\n",
       "      <td>Male</td>\n",
       "      <td>27</td>\n",
       "      <td>Food &amp; Beverage</td>\n",
       "      <td>2</td>\n",
       "      <td>10.46</td>\n",
       "      <td>Cash</td>\n",
       "      <td>22/09/2021</td>\n",
       "      <td>Forum Istanbul</td>\n",
       "    </tr>\n",
       "    <tr>\n",
       "      <th>99454</th>\n",
       "      <td>I824010</td>\n",
       "      <td>C103292</td>\n",
       "      <td>Male</td>\n",
       "      <td>63</td>\n",
       "      <td>Food &amp; Beverage</td>\n",
       "      <td>2</td>\n",
       "      <td>10.46</td>\n",
       "      <td>Debit Card</td>\n",
       "      <td>28/03/2021</td>\n",
       "      <td>Metrocity</td>\n",
       "    </tr>\n",
       "    <tr>\n",
       "      <th>99455</th>\n",
       "      <td>I702964</td>\n",
       "      <td>C800631</td>\n",
       "      <td>Male</td>\n",
       "      <td>56</td>\n",
       "      <td>Technology</td>\n",
       "      <td>4</td>\n",
       "      <td>4200.00</td>\n",
       "      <td>Cash</td>\n",
       "      <td>16/03/2021</td>\n",
       "      <td>Istinye Park</td>\n",
       "    </tr>\n",
       "    <tr>\n",
       "      <th>99456</th>\n",
       "      <td>I232867</td>\n",
       "      <td>C273973</td>\n",
       "      <td>Female</td>\n",
       "      <td>36</td>\n",
       "      <td>Souvenir</td>\n",
       "      <td>3</td>\n",
       "      <td>35.19</td>\n",
       "      <td>Credit Card</td>\n",
       "      <td>15/10/2022</td>\n",
       "      <td>Mall of Istanbul</td>\n",
       "    </tr>\n",
       "  </tbody>\n",
       "</table>\n",
       "<p>99457 rows × 10 columns</p>\n",
       "</div>"
      ],
      "text/plain": [
       "      invoice_no customer_id  gender  age         category  quantity    price  \\\n",
       "0        I138884     C241288  Female   28         Clothing         5  1500.40   \n",
       "1        I317333     C111565    Male   21            Shoes         3  1800.51   \n",
       "2        I127801     C266599    Male   20         Clothing         1   300.08   \n",
       "3        I173702     C988172  Female   66            Shoes         5  3000.85   \n",
       "4        I337046     C189076  Female   53            Books         4    60.60   \n",
       "...          ...         ...     ...  ...              ...       ...      ...   \n",
       "99452    I219422     C441542  Female   45         Souvenir         5    58.65   \n",
       "99453    I325143     C569580    Male   27  Food & Beverage         2    10.46   \n",
       "99454    I824010     C103292    Male   63  Food & Beverage         2    10.46   \n",
       "99455    I702964     C800631    Male   56       Technology         4  4200.00   \n",
       "99456    I232867     C273973  Female   36         Souvenir         3    35.19   \n",
       "\n",
       "      payment_method invoice_date     shopping_mall  \n",
       "0        Credit Card     5/8/2022            Kanyon  \n",
       "1         Debit Card   12/12/2021    Forum Istanbul  \n",
       "2               Cash    9/11/2021         Metrocity  \n",
       "3        Credit Card   16/05/2021      Metropol AVM  \n",
       "4               Cash   24/10/2021            Kanyon  \n",
       "...              ...          ...               ...  \n",
       "99452    Credit Card   21/09/2022            Kanyon  \n",
       "99453           Cash   22/09/2021    Forum Istanbul  \n",
       "99454     Debit Card   28/03/2021         Metrocity  \n",
       "99455           Cash   16/03/2021      Istinye Park  \n",
       "99456    Credit Card   15/10/2022  Mall of Istanbul  \n",
       "\n",
       "[99457 rows x 10 columns]"
      ]
     },
     "execution_count": 6,
     "metadata": {},
     "output_type": "execute_result"
    }
   ],
   "source": [
    "df"
   ]
  },
  {
   "cell_type": "code",
   "execution_count": 7,
   "id": "cc634df8",
   "metadata": {},
   "outputs": [
    {
     "name": "stderr",
     "output_type": "stream",
     "text": [
      "D:\\anaconda\\lib\\site-packages\\seaborn\\_decorators.py:36: FutureWarning: Pass the following variable as a keyword arg: x. From version 0.12, the only valid positional argument will be `data`, and passing other arguments without an explicit keyword will result in an error or misinterpretation.\n",
      "  warnings.warn(\n"
     ]
    },
    {
     "data": {
      "text/plain": [
       "<AxesSubplot:xlabel='price'>"
      ]
     },
     "execution_count": 7,
     "metadata": {},
     "output_type": "execute_result"
    },
    {
     "data": {
      "image/png": "[encoded data removed]",
      "text/plain": [
       "<Figure size 640x480 with 1 Axes>"
      ]
     },
     "metadata": {},
     "output_type": "display_data"
    }
   ],
   "source": [
    "# outlier boxplot\n",
    "sns.boxplot(df['price'])"
   ]
  },
  {
   "cell_type": "code",
   "execution_count": 8,
   "id": "2837820a",
   "metadata": {},
   "outputs": [
    {
     "name": "stdout",
     "output_type": "stream",
     "text": [
      "[5250.0, 4200.0, 5250.0, 5250.0, 5250.0, 4200.0, 4200.0, 5250.0, 4200.0, 5250.0, 4200.0, 4200.0, 5250.0, 4200.0, 4200.0, 4200.0, 5250.0, 4200.0, 5250.0, 5250.0, 5250.0, 4200.0, 5250.0, 4200.0, 4200.0, 4200.0, 4200.0, 5250.0, 5250.0, 5250.0, 5250.0, 5250.0, 4200.0, 4200.0, 4200.0, 5250.0, 4200.0, 4200.0, 5250.0, 5250.0, 5250.0, 5250.0, 4200.0, 4200.0, 5250.0, 4200.0, 5250.0, 5250.0, 5250.0, 5250.0, 4200.0, 4200.0, 4200.0, 4200.0, 5250.0, 4200.0, 4200.0, 5250.0, 5250.0, 4200.0, 4200.0, 4200.0, 5250.0, 5250.0, 5250.0, 4200.0, 5250.0, 5250.0, 5250.0, 5250.0, 5250.0, 5250.0, 4200.0, 4200.0, 5250.0, 4200.0, 5250.0, 5250.0, 4200.0, 5250.0, 4200.0, 4200.0, 4200.0, 5250.0, 4200.0, 5250.0, 5250.0, 5250.0, 4200.0, 4200.0, 5250.0, 4200.0, 5250.0, 5250.0, 4200.0, 5250.0, 5250.0, 5250.0, 5250.0, 5250.0, 4200.0, 4200.0, 4200.0, 4200.0, 4200.0, 5250.0, 4200.0, 5250.0, 5250.0, 5250.0, 4200.0, 4200.0, 4200.0, 5250.0, 5250.0, 5250.0, 5250.0, 4200.0, 5250.0, 5250.0, 4200.0, 5250.0, 4200.0, 5250.0, 5250.0, 5250.0, 4200.0, 5250.0, 5250.0, 4200.0, 4200.0, 5250.0, 5250.0, 5250.0, 5250.0, 4200.0, 5250.0, 4200.0, 5250.0, 5250.0, 4200.0, 4200.0, 4200.0, 5250.0, 4200.0, 5250.0, 4200.0, 4200.0, 4200.0, 4200.0, 5250.0, 4200.0, 5250.0, 4200.0, 5250.0, 5250.0, 5250.0, 5250.0, 4200.0, 5250.0, 4200.0, 4200.0, 4200.0, 5250.0, 5250.0, 4200.0, 5250.0, 5250.0, 5250.0, 4200.0, 5250.0, 5250.0, 4200.0, 4200.0, 5250.0, 5250.0, 5250.0, 4200.0, 5250.0, 5250.0, 5250.0, 5250.0, 4200.0, 5250.0, 5250.0, 4200.0, 4200.0, 5250.0, 5250.0, 4200.0, 5250.0, 5250.0, 5250.0, 5250.0, 5250.0, 4200.0, 4200.0, 4200.0, 4200.0, 4200.0, 5250.0, 4200.0, 5250.0, 4200.0, 5250.0, 4200.0, 5250.0, 5250.0, 5250.0, 4200.0, 5250.0, 5250.0, 4200.0, 4200.0, 4200.0, 5250.0, 4200.0, 4200.0, 5250.0, 4200.0, 5250.0, 4200.0, 4200.0, 5250.0, 4200.0, 4200.0, 4200.0, 4200.0, 5250.0, 4200.0, 4200.0, 5250.0, 4200.0, 5250.0, 5250.0, 4200.0, 4200.0, 5250.0, 5250.0, 5250.0, 5250.0, 5250.0, 4200.0, 5250.0, 4200.0, 4200.0, 5250.0, 5250.0, 4200.0, 5250.0, 4200.0, 5250.0, 5250.0, 4200.0, 4200.0, 5250.0, 4200.0, 5250.0, 4200.0, 4200.0, 4200.0, 5250.0, 4200.0, 4200.0, 5250.0, 5250.0, 4200.0, 5250.0, 4200.0, 4200.0, 5250.0, 5250.0, 5250.0, 4200.0, 5250.0, 4200.0, 5250.0, 5250.0, 4200.0, 4200.0, 5250.0, 4200.0, 5250.0, 5250.0, 4200.0, 4200.0, 4200.0, 4200.0, 4200.0, 4200.0, 5250.0, 5250.0, 5250.0, 4200.0, 4200.0, 5250.0, 5250.0, 5250.0, 4200.0, 4200.0, 5250.0, 5250.0, 4200.0, 5250.0, 4200.0, 5250.0, 5250.0, 5250.0, 4200.0, 4200.0, 5250.0, 4200.0, 5250.0, 4200.0, 4200.0, 5250.0, 4200.0, 4200.0, 4200.0, 4200.0, 4200.0, 4200.0, 5250.0, 4200.0, 4200.0, 4200.0, 4200.0, 5250.0, 4200.0, 4200.0, 4200.0, 4200.0, 5250.0, 4200.0, 4200.0, 4200.0, 4200.0, 5250.0, 5250.0, 4200.0, 4200.0, 4200.0, 4200.0, 5250.0, 4200.0, 5250.0, 4200.0, 5250.0, 4200.0, 5250.0, 5250.0, 5250.0, 5250.0, 5250.0, 4200.0, 4200.0, 5250.0, 4200.0, 4200.0, 5250.0, 4200.0, 4200.0, 5250.0, 5250.0, 5250.0, 4200.0, 4200.0, 4200.0, 5250.0, 5250.0, 5250.0, 5250.0, 4200.0, 5250.0, 4200.0, 4200.0, 5250.0, 5250.0, 4200.0, 4200.0, 4200.0, 4200.0, 4200.0, 4200.0, 4200.0, 5250.0, 5250.0, 5250.0, 4200.0, 4200.0, 5250.0, 5250.0, 4200.0, 4200.0, 4200.0, 4200.0, 5250.0, 5250.0, 4200.0, 5250.0, 4200.0, 5250.0, 5250.0, 5250.0, 5250.0, 4200.0, 4200.0, 5250.0, 4200.0, 4200.0, 4200.0, 4200.0, 5250.0, 5250.0, 5250.0, 5250.0, 4200.0, 4200.0, 4200.0, 5250.0, 4200.0, 5250.0, 4200.0, 4200.0, 5250.0, 5250.0, 5250.0, 4200.0, 5250.0, 4200.0, 4200.0, 5250.0, 4200.0, 5250.0, 4200.0, 4200.0, 5250.0, 5250.0, 4200.0, 5250.0, 5250.0, 4200.0, 4200.0, 4200.0, 4200.0, 5250.0, 5250.0, 5250.0, 4200.0, 4200.0, 5250.0, 5250.0, 4200.0, 5250.0, 5250.0, 4200.0, 5250.0, 5250.0, 4200.0, 4200.0, 4200.0, 4200.0, 4200.0, 5250.0, 4200.0, 4200.0, 4200.0, 4200.0, 4200.0, 4200.0, 4200.0, 4200.0, 4200.0, 5250.0, 5250.0, 5250.0, 4200.0, 5250.0, 4200.0, 5250.0, 4200.0, 4200.0, 5250.0, 4200.0, 4200.0, 5250.0, 4200.0, 5250.0, 5250.0, 4200.0, 4200.0, 4200.0, 4200.0, 5250.0, 4200.0, 4200.0, 5250.0, 5250.0, 5250.0, 4200.0, 4200.0, 4200.0, 4200.0, 4200.0, 5250.0, 5250.0, 4200.0, 5250.0, 4200.0, 5250.0, 5250.0, 4200.0, 5250.0, 5250.0, 4200.0, 5250.0, 4200.0, 5250.0, 4200.0, 4200.0, 5250.0, 4200.0, 4200.0, 4200.0, 4200.0, 4200.0, 4200.0, 5250.0, 4200.0, 4200.0, 5250.0, 5250.0, 4200.0, 5250.0, 4200.0, 4200.0, 4200.0, 5250.0, 4200.0, 5250.0, 4200.0, 5250.0, 4200.0, 4200.0, 5250.0, 4200.0, 4200.0, 4200.0, 5250.0, 5250.0, 4200.0, 5250.0, 4200.0, 4200.0, 4200.0, 4200.0, 5250.0, 4200.0, 4200.0, 4200.0, 5250.0, 5250.0, 5250.0, 4200.0, 4200.0, 4200.0, 5250.0, 5250.0, 5250.0, 5250.0, 4200.0, 4200.0, 4200.0, 5250.0, 5250.0, 5250.0, 5250.0, 5250.0, 4200.0, 5250.0, 5250.0, 5250.0, 4200.0, 5250.0, 4200.0, 4200.0, 5250.0, 5250.0, 5250.0, 5250.0, 4200.0, 4200.0, 4200.0, 5250.0, 4200.0, 5250.0, 4200.0, 4200.0, 4200.0, 4200.0, 5250.0, 4200.0, 4200.0, 5250.0, 5250.0, 5250.0, 5250.0, 5250.0, 4200.0, 5250.0, 5250.0, 5250.0, 5250.0, 5250.0, 4200.0, 4200.0, 4200.0, 4200.0, 4200.0, 5250.0, 4200.0, 4200.0, 4200.0, 4200.0, 5250.0, 5250.0, 4200.0, 4200.0, 4200.0, 4200.0, 5250.0, 4200.0, 5250.0, 4200.0, 5250.0, 5250.0, 5250.0, 5250.0, 4200.0, 4200.0, 4200.0, 5250.0, 4200.0, 5250.0, 5250.0, 4200.0, 5250.0, 4200.0, 5250.0, 4200.0, 4200.0, 5250.0, 5250.0, 4200.0, 5250.0, 4200.0, 4200.0, 5250.0, 4200.0, 4200.0, 5250.0, 5250.0, 4200.0, 5250.0, 4200.0, 5250.0, 5250.0, 4200.0, 4200.0, 4200.0, 5250.0, 5250.0, 4200.0, 4200.0, 4200.0, 4200.0, 5250.0, 5250.0, 5250.0, 4200.0, 4200.0, 4200.0, 4200.0, 5250.0, 4200.0, 4200.0, 4200.0, 5250.0, 4200.0, 4200.0, 5250.0, 4200.0, 5250.0, 5250.0, 4200.0, 4200.0, 5250.0, 4200.0, 4200.0, 5250.0, 5250.0, 4200.0, 5250.0, 5250.0, 5250.0, 4200.0, 5250.0, 4200.0, 4200.0, 5250.0, 4200.0, 4200.0, 4200.0, 5250.0, 5250.0, 5250.0, 4200.0, 4200.0, 5250.0, 5250.0, 5250.0, 5250.0, 5250.0, 5250.0, 5250.0, 4200.0, 4200.0, 4200.0, 5250.0, 4200.0, 4200.0, 4200.0, 5250.0, 5250.0, 4200.0, 4200.0, 5250.0, 5250.0, 4200.0, 5250.0, 5250.0, 5250.0, 5250.0, 5250.0, 5250.0, 4200.0, 4200.0, 5250.0, 4200.0, 4200.0, 5250.0, 5250.0, 4200.0, 5250.0, 5250.0, 5250.0, 4200.0, 5250.0, 5250.0, 5250.0, 5250.0, 4200.0, 5250.0, 5250.0, 5250.0, 5250.0, 5250.0, 4200.0, 4200.0, 4200.0, 5250.0, 5250.0, 5250.0, 4200.0, 4200.0, 5250.0, 4200.0, 5250.0, 4200.0, 4200.0, 4200.0, 4200.0, 5250.0, 4200.0, 4200.0, 5250.0, 4200.0, 5250.0, 4200.0, 4200.0, 4200.0, 5250.0, 5250.0, 5250.0, 5250.0, 4200.0, 4200.0, 4200.0, 4200.0, 4200.0, 4200.0, 5250.0, 4200.0, 5250.0, 4200.0, 4200.0, 4200.0, 4200.0, 5250.0, 5250.0, 4200.0, 4200.0, 5250.0, 5250.0, 5250.0, 4200.0, 4200.0, 4200.0, 4200.0, 5250.0, 4200.0, 5250.0, 4200.0, 5250.0, 5250.0, 4200.0, 5250.0, 4200.0, 5250.0, 5250.0, 4200.0, 5250.0, 4200.0, 4200.0, 5250.0, 4200.0, 5250.0, 5250.0, 5250.0, 5250.0, 5250.0, 5250.0, 5250.0, 4200.0, 5250.0, 4200.0, 5250.0, 4200.0, 5250.0, 5250.0, 4200.0, 5250.0, 4200.0, 4200.0, 4200.0, 5250.0, 4200.0, 4200.0, 4200.0, 4200.0, 4200.0, 5250.0, 4200.0, 5250.0, 5250.0, 4200.0, 5250.0, 5250.0, 4200.0, 5250.0, 5250.0, 5250.0, 5250.0, 5250.0, 5250.0, 5250.0, 5250.0, 5250.0, 4200.0, 4200.0, 4200.0, 5250.0, 5250.0, 5250.0, 5250.0, 5250.0, 4200.0, 4200.0, 5250.0, 4200.0, 4200.0, 4200.0, 4200.0, 5250.0, 4200.0, 5250.0, 5250.0, 4200.0, 5250.0, 5250.0, 5250.0, 5250.0, 5250.0, 5250.0, 5250.0, 5250.0, 4200.0, 5250.0, 4200.0, 4200.0, 4200.0, 4200.0, 5250.0, 5250.0, 4200.0, 4200.0, 5250.0, 5250.0, 5250.0, 4200.0, 5250.0, 5250.0, 4200.0, 5250.0, 4200.0, 5250.0, 5250.0, 5250.0, 5250.0, 5250.0, 5250.0, 4200.0, 4200.0, 4200.0, 5250.0, 4200.0, 5250.0, 4200.0, 5250.0, 5250.0, 5250.0, 5250.0, 5250.0, 5250.0, 4200.0, 4200.0, 5250.0, 5250.0, 4200.0, 4200.0, 5250.0, 5250.0, 5250.0, 4200.0, 4200.0, 5250.0, 5250.0, 5250.0, 5250.0, 5250.0, 5250.0, 5250.0, 4200.0, 5250.0, 5250.0, 5250.0, 5250.0, 5250.0, 4200.0, 5250.0, 5250.0, 5250.0, 5250.0, 4200.0, 5250.0, 4200.0, 5250.0, 5250.0, 5250.0, 5250.0, 5250.0, 5250.0, 4200.0, 4200.0, 4200.0, 5250.0, 4200.0, 4200.0, 4200.0, 5250.0, 5250.0, 4200.0, 5250.0, 4200.0, 4200.0, 4200.0, 4200.0, 4200.0, 4200.0, 5250.0, 5250.0, 4200.0, 4200.0, 4200.0, 4200.0, 5250.0, 4200.0, 5250.0, 5250.0, 4200.0, 5250.0, 5250.0, 4200.0, 4200.0, 5250.0, 5250.0, 4200.0, 4200.0, 4200.0, 4200.0, 5250.0, 5250.0, 5250.0, 5250.0, 4200.0, 5250.0, 5250.0, 4200.0, 5250.0, 5250.0, 5250.0, 4200.0, 5250.0, 4200.0, 4200.0, 5250.0, 4200.0, 5250.0, 5250.0, 5250.0, 4200.0, 4200.0, 5250.0, 4200.0, 5250.0, 4200.0, 4200.0, 5250.0, 4200.0, 4200.0, 4200.0, 4200.0, 5250.0, 5250.0, 5250.0, 5250.0, 4200.0, 4200.0, 5250.0, 4200.0, 4200.0, 4200.0, 4200.0, 5250.0, 5250.0, 5250.0, 5250.0, 4200.0, 5250.0, 4200.0, 4200.0, 5250.0, 5250.0, 4200.0, 4200.0, 5250.0, 5250.0, 4200.0, 5250.0, 5250.0, 4200.0, 5250.0, 5250.0, 4200.0, 4200.0, 5250.0, 5250.0, 5250.0, 5250.0, 4200.0, 4200.0, 5250.0, 4200.0, 4200.0, 5250.0, 5250.0, 4200.0, 4200.0, 5250.0, 5250.0, 5250.0, 4200.0, 5250.0, 4200.0, 4200.0, 4200.0, 5250.0, 4200.0, 5250.0, 4200.0, 4200.0, 5250.0, 4200.0, 4200.0, 5250.0, 5250.0, 4200.0, 4200.0, 5250.0, 5250.0, 4200.0, 4200.0, 5250.0, 4200.0, 5250.0, 4200.0, 4200.0, 4200.0, 4200.0, 4200.0, 5250.0, 4200.0, 5250.0, 4200.0, 4200.0, 5250.0, 4200.0, 4200.0, 5250.0, 4200.0, 5250.0, 5250.0, 5250.0, 4200.0, 5250.0, 5250.0, 5250.0, 4200.0, 5250.0, 4200.0, 5250.0, 5250.0, 5250.0, 4200.0, 5250.0, 5250.0, 4200.0, 4200.0, 4200.0, 5250.0, 4200.0, 4200.0, 4200.0, 4200.0, 5250.0, 4200.0, 5250.0, 5250.0, 5250.0, 4200.0, 4200.0, 5250.0, 4200.0, 4200.0, 4200.0, 4200.0, 4200.0, 5250.0, 4200.0, 5250.0, 5250.0, 5250.0, 5250.0, 5250.0, 4200.0, 5250.0, 4200.0, 5250.0, 5250.0, 5250.0, 5250.0, 5250.0, 4200.0, 5250.0, 4200.0, 5250.0, 4200.0, 5250.0, 4200.0, 4200.0, 4200.0, 5250.0, 5250.0, 5250.0, 5250.0, 4200.0, 4200.0, 4200.0, 4200.0, 4200.0, 4200.0, 5250.0, 5250.0, 5250.0, 4200.0, 5250.0, 4200.0, 5250.0, 5250.0, 5250.0, 4200.0, 5250.0, 4200.0, 4200.0, 5250.0, 5250.0, 5250.0, 4200.0, 4200.0, 4200.0, 5250.0, 5250.0, 5250.0, 5250.0, 4200.0, 5250.0, 5250.0, 5250.0, 5250.0, 5250.0, 4200.0, 4200.0, 4200.0, 4200.0, 5250.0, 4200.0, 4200.0, 4200.0, 5250.0, 4200.0, 5250.0, 5250.0, 5250.0, 4200.0, 4200.0, 4200.0, 5250.0, 4200.0, 4200.0, 4200.0, 5250.0, 4200.0, 4200.0, 5250.0, 4200.0, 4200.0, 5250.0, 4200.0, 5250.0, 5250.0, 4200.0, 4200.0, 4200.0, 4200.0, 5250.0, 4200.0, 4200.0, 5250.0, 4200.0, 4200.0, 5250.0, 4200.0, 5250.0, 4200.0, 4200.0, 4200.0, 4200.0, 5250.0, 4200.0, 5250.0, 5250.0, 4200.0, 4200.0, 4200.0, 4200.0, 5250.0, 4200.0, 5250.0, 5250.0, 5250.0, 4200.0, 4200.0, 5250.0, 5250.0, 5250.0, 4200.0, 4200.0, 4200.0, 4200.0, 5250.0, 4200.0, 4200.0, 4200.0, 5250.0, 5250.0, 4200.0, 4200.0, 5250.0, 5250.0, 5250.0, 4200.0, 4200.0, 5250.0, 4200.0, 5250.0, 5250.0, 5250.0, 5250.0, 4200.0, 4200.0, 4200.0, 5250.0, 5250.0, 4200.0, 5250.0, 4200.0, 5250.0, 5250.0, 5250.0, 4200.0, 5250.0, 4200.0, 5250.0, 4200.0, 5250.0, 4200.0, 4200.0, 4200.0, 4200.0, 4200.0, 5250.0, 5250.0, 5250.0, 5250.0, 5250.0, 5250.0, 5250.0, 5250.0, 5250.0, 5250.0, 4200.0, 5250.0, 5250.0, 5250.0, 5250.0, 5250.0, 4200.0, 5250.0, 4200.0, 5250.0, 4200.0, 5250.0, 5250.0, 5250.0, 4200.0, 4200.0, 4200.0, 4200.0, 5250.0, 5250.0, 4200.0, 5250.0, 4200.0, 5250.0, 5250.0, 5250.0, 5250.0, 5250.0, 5250.0, 4200.0, 4200.0, 4200.0, 4200.0, 5250.0, 5250.0, 5250.0, 4200.0, 4200.0, 4200.0, 5250.0, 4200.0, 4200.0, 5250.0, 4200.0, 5250.0, 4200.0, 4200.0, 5250.0, 5250.0, 5250.0, 5250.0, 5250.0, 5250.0, 5250.0, 4200.0, 4200.0, 4200.0, 5250.0, 4200.0, 4200.0, 4200.0, 5250.0, 5250.0, 4200.0, 4200.0, 4200.0, 4200.0, 5250.0, 5250.0, 4200.0, 5250.0, 5250.0, 4200.0, 4200.0, 5250.0, 5250.0, 5250.0, 4200.0, 5250.0, 5250.0, 4200.0, 5250.0, 5250.0, 4200.0, 5250.0, 5250.0, 5250.0, 4200.0, 4200.0, 4200.0, 5250.0, 4200.0, 5250.0, 4200.0, 4200.0, 5250.0, 4200.0, 4200.0, 5250.0, 4200.0, 4200.0, 5250.0, 4200.0, 4200.0, 5250.0, 4200.0, 4200.0, 5250.0, 5250.0, 5250.0, 4200.0, 4200.0, 4200.0, 5250.0, 5250.0, 5250.0, 5250.0, 4200.0, 4200.0, 5250.0, 5250.0, 4200.0, 4200.0, 5250.0, 4200.0, 4200.0, 4200.0, 4200.0, 5250.0, 4200.0, 5250.0, 4200.0, 5250.0, 5250.0, 4200.0, 4200.0, 5250.0, 4200.0, 5250.0, 4200.0, 5250.0, 5250.0, 5250.0, 5250.0, 4200.0, 5250.0, 5250.0, 4200.0, 5250.0, 4200.0, 4200.0, 5250.0, 4200.0, 5250.0, 4200.0, 5250.0, 4200.0, 5250.0, 5250.0, 4200.0, 4200.0, 5250.0, 5250.0, 4200.0, 4200.0, 5250.0, 4200.0, 5250.0, 5250.0, 4200.0, 5250.0, 5250.0, 5250.0, 4200.0, 5250.0, 5250.0, 4200.0, 5250.0, 4200.0, 4200.0, 4200.0, 5250.0, 5250.0, 5250.0, 4200.0, 5250.0, 4200.0, 5250.0, 5250.0, 4200.0, 5250.0, 4200.0, 4200.0, 4200.0, 4200.0, 5250.0, 5250.0, 4200.0, 4200.0, 4200.0, 4200.0, 5250.0, 4200.0, 5250.0, 4200.0, 5250.0, 4200.0, 4200.0, 5250.0, 5250.0, 4200.0, 5250.0, 5250.0, 4200.0, 4200.0, 5250.0, 5250.0, 4200.0, 4200.0, 5250.0, 5250.0, 4200.0, 5250.0, 4200.0, 5250.0, 5250.0, 5250.0, 4200.0, 4200.0, 4200.0, 5250.0, 5250.0, 5250.0, 4200.0, 5250.0, 4200.0, 5250.0, 4200.0, 4200.0, 4200.0, 5250.0, 5250.0, 5250.0, 5250.0, 5250.0, 4200.0, 5250.0, 4200.0, 4200.0, 4200.0, 4200.0, 4200.0, 4200.0, 4200.0, 5250.0, 5250.0, 5250.0, 4200.0, 4200.0, 4200.0, 5250.0, 4200.0, 5250.0, 5250.0, 5250.0, 5250.0, 5250.0, 5250.0, 5250.0, 5250.0, 5250.0, 4200.0, 4200.0, 5250.0, 5250.0, 5250.0, 5250.0, 4200.0, 4200.0, 5250.0, 5250.0, 4200.0, 4200.0, 4200.0, 4200.0, 5250.0, 4200.0, 5250.0, 5250.0, 4200.0, 5250.0, 5250.0, 4200.0, 5250.0, 5250.0, 4200.0, 5250.0, 5250.0, 4200.0, 4200.0, 5250.0, 5250.0, 5250.0, 4200.0, 5250.0, 5250.0, 4200.0, 4200.0, 5250.0, 5250.0, 4200.0, 4200.0, 4200.0, 4200.0, 4200.0, 4200.0, 5250.0, 5250.0, 4200.0, 4200.0, 5250.0, 5250.0, 4200.0, 4200.0, 5250.0, 5250.0, 4200.0, 4200.0, 5250.0, 4200.0, 4200.0, 5250.0, 5250.0, 5250.0, 4200.0, 4200.0, 5250.0, 5250.0, 4200.0, 5250.0, 4200.0, 5250.0, 4200.0, 4200.0, 5250.0, 5250.0, 5250.0, 5250.0, 5250.0, 4200.0, 5250.0, 5250.0, 4200.0, 5250.0, 4200.0, 4200.0, 4200.0, 4200.0, 5250.0, 4200.0, 4200.0, 4200.0, 4200.0, 5250.0, 5250.0, 4200.0, 4200.0, 4200.0, 4200.0, 5250.0, 5250.0, 4200.0, 5250.0, 4200.0, 4200.0, 4200.0, 5250.0, 5250.0, 5250.0, 5250.0, 4200.0, 5250.0, 4200.0, 4200.0, 5250.0, 5250.0, 4200.0, 5250.0, 4200.0, 5250.0, 4200.0, 4200.0, 4200.0, 5250.0, 5250.0, 4200.0, 5250.0, 5250.0, 5250.0, 4200.0, 4200.0, 4200.0, 5250.0, 5250.0, 4200.0, 4200.0, 4200.0, 5250.0, 4200.0, 5250.0, 5250.0, 4200.0, 5250.0, 4200.0, 4200.0, 4200.0, 4200.0, 5250.0, 5250.0, 5250.0, 4200.0, 5250.0, 4200.0, 4200.0, 5250.0, 4200.0, 4200.0, 5250.0, 5250.0, 5250.0, 4200.0, 4200.0, 4200.0, 5250.0, 5250.0, 4200.0, 5250.0, 4200.0, 4200.0, 4200.0, 4200.0, 5250.0, 5250.0, 4200.0, 4200.0, 4200.0, 5250.0, 5250.0, 4200.0, 4200.0, 5250.0, 5250.0, 5250.0, 5250.0, 4200.0, 5250.0, 5250.0, 5250.0, 4200.0, 5250.0, 4200.0, 5250.0, 4200.0, 4200.0, 4200.0, 5250.0, 5250.0, 5250.0, 4200.0, 4200.0, 4200.0, 5250.0, 5250.0, 5250.0, 5250.0, 4200.0, 5250.0, 4200.0, 4200.0, 5250.0, 4200.0, 5250.0, 4200.0, 4200.0, 4200.0, 5250.0, 4200.0, 4200.0, 4200.0, 4200.0, 5250.0, 5250.0, 4200.0, 5250.0, 4200.0, 4200.0, 4200.0, 4200.0, 4200.0, 5250.0, 4200.0, 5250.0, 4200.0, 5250.0, 4200.0, 4200.0, 4200.0, 4200.0, 4200.0, 4200.0, 4200.0, 5250.0, 4200.0, 4200.0, 5250.0, 4200.0, 5250.0, 5250.0, 4200.0, 5250.0, 5250.0, 5250.0, 4200.0, 4200.0, 4200.0, 5250.0, 5250.0, 5250.0, 4200.0, 5250.0, 4200.0, 4200.0, 5250.0, 5250.0, 5250.0, 5250.0, 4200.0, 5250.0, 5250.0, 4200.0, 4200.0, 4200.0, 5250.0, 4200.0, 5250.0, 5250.0, 5250.0, 4200.0, 5250.0, 4200.0, 5250.0, 5250.0, 5250.0, 5250.0, 4200.0, 4200.0, 4200.0, 4200.0, 5250.0, 4200.0, 5250.0, 5250.0, 4200.0, 5250.0, 4200.0, 5250.0, 4200.0, 5250.0, 5250.0, 5250.0, 5250.0, 5250.0, 5250.0, 4200.0, 5250.0, 4200.0, 5250.0, 4200.0, 4200.0, 5250.0, 4200.0, 4200.0, 5250.0, 4200.0, 4200.0, 4200.0, 5250.0, 5250.0, 5250.0, 4200.0, 4200.0, 4200.0, 5250.0, 4200.0, 5250.0, 4200.0, 5250.0, 4200.0, 4200.0, 4200.0, 4200.0, 5250.0, 4200.0, 5250.0, 5250.0, 4200.0, 5250.0, 4200.0, 4200.0, 4200.0, 5250.0, 4200.0, 5250.0, 5250.0, 5250.0, 5250.0, 4200.0, 5250.0, 4200.0, 5250.0, 5250.0, 4200.0, 5250.0, 4200.0, 4200.0, 5250.0, 4200.0, 4200.0, 5250.0, 5250.0, 4200.0, 4200.0, 5250.0, 4200.0, 4200.0, 4200.0, 4200.0, 4200.0, 5250.0, 4200.0, 4200.0, 4200.0]\n"
     ]
    }
   ],
   "source": [
    "# oulier Z-score\n",
    "\n",
    "outliers = []\n",
    "def detect_outliers(data):\n",
    "    threshold = 3  # 3rd standard deviation\n",
    "    mean = np.mean(data)\n",
    "    std = np.std(data)\n",
    "    \n",
    "    for i in data:\n",
    "        z_score = (i - mean)/std\n",
    "        if np.abs(z_score) > threshold:\n",
    "            outliers.append(i)\n",
    "    return outliers\n",
    "\n",
    "\n",
    "print(detect_outliers(df['price']))"
   ]
  },
  {
   "cell_type": "code",
   "execution_count": null,
   "id": "1c9d0372",
   "metadata": {},
   "outputs": [],
   "source": []
  },
  {
   "cell_type": "code",
   "execution_count": null,
   "id": "238709a6",
   "metadata": {},
   "outputs": [],
   "source": []
  }
 ],
 "metadata": {
  "kernelspec": {
   "display_name": "Python 3 (ipykernel)",
   "language": "python",
   "name": "python3"
  },
  "language_info": {
   "codemirror_mode": {
    "name": "ipython",
    "version": 3
   },
   "file_extension": ".py",
   "mimetype": "text/x-python",
   "name": "python",
   "nbconvert_exporter": "python",
   "pygments_lexer": "ipython3",
   "version": "3.9.13"
  }
 },
 "nbformat": 4,
 "nbformat_minor": 5
}
