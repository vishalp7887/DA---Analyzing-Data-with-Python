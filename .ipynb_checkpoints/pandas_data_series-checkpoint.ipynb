{
 "cells": [
  {
   "cell_type": "code",
   "execution_count": 1,
   "id": "6d366891",
   "metadata": {},
   "outputs": [],
   "source": [
    "import pandas as pd\n",
    "import numpy as np"
   ]
  },
  {
   "cell_type": "code",
   "execution_count": 2,
   "id": "d064b65d",
   "metadata": {
    "scrolled": true
   },
   "outputs": [
    {
     "data": {
      "text/plain": [
       "0    1\n",
       "1    2\n",
       "2    4\n",
       "3    8\n",
       "4    6\n",
       "5    4\n",
       "dtype: int64"
      ]
     },
     "execution_count": 2,
     "metadata": {},
     "output_type": "execute_result"
    }
   ],
   "source": [
    "# create one-dimensional array\n",
    "df1 = pd.Series([1, 2, 4, 8, 6, 4])\n",
    "df1"
   ]
  },
  {
   "cell_type": "code",
   "execution_count": 3,
   "id": "53102c4e",
   "metadata": {},
   "outputs": [
    {
     "name": "stdout",
     "output_type": "stream",
     "text": [
      "0    1\n",
      "1    3\n",
      "2    6\n",
      "3    8\n",
      "4    8\n",
      "5    4\n",
      "dtype: int64\n",
      "[1, 3, 6, 8, 8, 4]\n"
     ]
    }
   ],
   "source": [
    "# Convert Pandas Series to Python list\n",
    "df2 = pd.Series([1, 3, 6, 8, 8, 4])\n",
    "print(df2)\n",
    "print(df2.tolist())"
   ]
  },
  {
   "cell_type": "code",
   "execution_count": 4,
   "id": "49b9f26b",
   "metadata": {},
   "outputs": [
    {
     "name": "stdout",
     "output_type": "stream",
     "text": [
      "0     3\n",
      "1     7\n",
      "2    11\n",
      "3    15\n",
      "4    19\n",
      "dtype: int64\n",
      "0    1\n",
      "1    1\n",
      "2    1\n",
      "3    1\n",
      "4    1\n",
      "dtype: int64\n",
      "0     2\n",
      "1    12\n",
      "2    30\n",
      "3    56\n",
      "4    90\n",
      "dtype: int64\n",
      "0    2.000000\n",
      "1    1.333333\n",
      "2    1.200000\n",
      "3    1.142857\n",
      "4    1.111111\n",
      "dtype: float64\n"
     ]
    }
   ],
   "source": [
    "# pandas series to add, substract, multiple, divide.\n",
    "df3 = pd.Series([2, 4, 6, 8, 10])\n",
    "df4 = pd.Series([1, 3, 5, 7, 9])\n",
    "\n",
    "print(df3 + df4) # add\n",
    "print(df3 - df4) # substract\n",
    "print(df3 * df4) # multiply\n",
    "print(df3 / df4) # divide"
   ]
  },
  {
   "cell_type": "code",
   "execution_count": 5,
   "id": "a506c337",
   "metadata": {},
   "outputs": [
    {
     "name": "stdout",
     "output_type": "stream",
     "text": [
      "0     2\n",
      "1     4\n",
      "2     6\n",
      "3     8\n",
      "4    10\n",
      "dtype: int64\n",
      "0     1\n",
      "1     3\n",
      "2     5\n",
      "3     7\n",
      "4    10\n",
      "dtype: int64\n",
      "0    False\n",
      "1    False\n",
      "2    False\n",
      "3    False\n",
      "4     True\n",
      "dtype: bool\n",
      "0    False\n",
      "1    False\n",
      "2    False\n",
      "3    False\n",
      "4    False\n",
      "dtype: bool\n",
      "0     True\n",
      "1     True\n",
      "2     True\n",
      "3     True\n",
      "4    False\n",
      "dtype: bool\n"
     ]
    }
   ],
   "source": [
    "# compare the elements of the two Pandas Series.\n",
    "df5 = pd.Series([2, 4, 6, 8, 10])\n",
    "df6 = pd.Series([1, 3, 5, 7, 10])\n",
    "\n",
    "print(df5)\n",
    "print(df6)\n",
    "print(df5 == df6)\n",
    "print(df5 < df6)\n",
    "print(df5 > df6)"
   ]
  },
  {
   "cell_type": "code",
   "execution_count": 6,
   "id": "903232f9",
   "metadata": {},
   "outputs": [
    {
     "name": "stdout",
     "output_type": "stream",
     "text": [
      "a    100\n",
      "b    200\n",
      "c    300\n",
      "d    400\n",
      "e    800\n",
      "dtype: int64\n"
     ]
    }
   ],
   "source": [
    "# dictionary to a Pandas series.\n",
    "d = {'a': 100, 'b': 200, 'c': 300, 'd': 400, 'e': 800}\n",
    "df7 = pd.Series(d)\n",
    "print(df7)"
   ]
  },
  {
   "cell_type": "code",
   "execution_count": 7,
   "id": "0bb5fda3",
   "metadata": {},
   "outputs": [
    {
     "name": "stdout",
     "output_type": "stream",
     "text": [
      "[7 9 5 3 4 6]\n",
      "0    7\n",
      "1    9\n",
      "2    5\n",
      "3    3\n",
      "4    4\n",
      "5    6\n",
      "dtype: int32\n"
     ]
    }
   ],
   "source": [
    "# NumPy array to a Pandas series.\n",
    "arr1 = np.array([7, 9, 5, 3, 4, 6])\n",
    "df8 = pd.Series(arr1)\n",
    "print(arr1)\n",
    "print(df8)"
   ]
  },
  {
   "cell_type": "code",
   "execution_count": 8,
   "id": "814c7b56",
   "metadata": {},
   "outputs": [
    {
     "data": {
      "text/plain": [
       "0    5.0\n",
       "1    8.0\n",
       "2    3.0\n",
       "3    7.0\n",
       "4    NaN\n",
       "dtype: float64"
      ]
     },
     "execution_count": 8,
     "metadata": {},
     "output_type": "execute_result"
    }
   ],
   "source": [
    "# change the data type of given a column or a Series.\\\n",
    "df9 = pd.Series([5, 8, 3, 7, 'python'])\n",
    "df10 = pd.to_numeric(df9, errors='coerce')\n",
    "df10"
   ]
  },
  {
   "cell_type": "code",
   "execution_count": 14,
   "id": "6d2dbac7",
   "metadata": {},
   "outputs": [
    {
     "name": "stdout",
     "output_type": "stream",
     "text": [
      "<class 'pandas.core.frame.DataFrame'>\n",
      "   a  b  c\n",
      "0  2  1  1\n",
      "1  4  3  2\n",
      "2  6  5  5\n",
      "3  8  7  6\n",
      "<class 'pandas.core.series.Series'>\n",
      "0    2\n",
      "1    4\n",
      "2    6\n",
      "3    8\n",
      "Name: a, dtype: int64\n"
     ]
    }
   ],
   "source": [
    "# convert the first column of a DataFrame as a Series.\n",
    "d1 = {'a' : [2, 4, 6, 8], 'b' : [1, 3, 5, 7], 'c' : [1, 2, 5, 6]}\n",
    "df11 = pd.DataFrame(d1)\n",
    "print(type(df11))\n",
    "print(df11)\n",
    "\n",
    "df12 = pd.Series(df11['a'])\n",
    "print(type(df12))\n",
    "print(df12)"
   ]
  },
  {
   "cell_type": "code",
   "execution_count": 13,
   "id": "105628e7",
   "metadata": {},
   "outputs": [
    {
     "name": "stdout",
     "output_type": "stream",
     "text": [
      "0    5\n",
      "1    7\n",
      "2    8\n",
      "3    4\n",
      "4    2\n",
      "5    9\n",
      "dtype: int64\n",
      "[5 7 8 4 2 9]\n"
     ]
    }
   ],
   "source": [
    "# convert a given Series to an array.\n",
    "df13 = pd.Series([5, 7, 8, 4, 2, 9])\n",
    "print(df13)\n",
    "\n",
    "arr2 = df13.values\n",
    "print(arr2)"
   ]
  },
  {
   "cell_type": "code",
   "execution_count": 35,
   "id": "e6af2c93",
   "metadata": {},
   "outputs": [
    {
     "name": "stdout",
     "output_type": "stream",
     "text": [
      "0       100\n",
      "1    python\n",
      "2    300.12\n",
      "3       400\n",
      "4       200\n",
      "dtype: object\n",
      "0       100\n",
      "4       200\n",
      "2    300.12\n",
      "3       400\n",
      "1    python\n",
      "dtype: object\n"
     ]
    }
   ],
   "source": [
    "# sort a given Series.\n",
    "df14 = pd.Series(['100', 'python', '300.12', '400', '200'])\n",
    "print(df14)\n",
    "\n",
    "df15 = pd.Series(df14).sort_values()\n",
    "print(df15)"
   ]
  },
  {
   "cell_type": "code",
   "execution_count": 38,
   "id": "1d8e1054",
   "metadata": {},
   "outputs": [
    {
     "name": "stdout",
     "output_type": "stream",
     "text": [
      "0       100\n",
      "1    python\n",
      "2    300.12\n",
      "3       400\n",
      "4       200\n",
      "dtype: object\n",
      "0       100\n",
      "1    python\n",
      "2    300.12\n",
      "3       400\n",
      "4       200\n",
      "0       500\n",
      "1      java\n",
      "dtype: object\n"
     ]
    }
   ],
   "source": [
    "# add some data to an existing Series.\n",
    "df16 = pd.Series(['100', 'python', '300.12', '400', '200'])\n",
    "print(df16)\n",
    "\n",
    "df17 = pd.concat([df16, pd.Series([500, 'java'])])\n",
    "print(df17)"
   ]
  },
  {
   "cell_type": "code",
   "execution_count": null,
   "id": "fdea5221",
   "metadata": {},
   "outputs": [],
   "source": []
  }
 ],
 "metadata": {
  "kernelspec": {
   "display_name": "Python 3 (ipykernel)",
   "language": "python",
   "name": "python3"
  },
  "language_info": {
   "codemirror_mode": {
    "name": "ipython",
    "version": 3
   },
   "file_extension": ".py",
   "mimetype": "text/x-python",
   "name": "python",
   "nbconvert_exporter": "python",
   "pygments_lexer": "ipython3",
   "version": "3.9.13"
  }
 },
 "nbformat": 4,
 "nbformat_minor": 5
}
